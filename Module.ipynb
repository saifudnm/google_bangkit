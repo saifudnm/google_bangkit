{
  "nbformat": 4,
  "nbformat_minor": 0,
  "metadata": {
    "colab": {
      "name": "Module.ipynb",
      "provenance": [],
      "collapsed_sections": [],
      "authorship_tag": "ABX9TyN383gv/MGXVHaW8H+Qx83g",
      "include_colab_link": true
    },
    "kernelspec": {
      "name": "python3",
      "display_name": "Python 3"
    }
  },
  "cells": [
    {
      "cell_type": "markdown",
      "metadata": {
        "id": "view-in-github",
        "colab_type": "text"
      },
      "source": [
        "<a href=\"https://colab.research.google.com/github/saifudnm/google_bangkit/blob/master/Module.ipynb\" target=\"_parent\"><img src=\"https://colab.research.google.com/assets/colab-badge.svg\" alt=\"Open In Colab\"/></a>"
      ]
    },
    {
      "cell_type": "code",
      "metadata": {
        "id": "S82T9iD0eSL1",
        "colab_type": "code",
        "colab": {}
      },
      "source": [
        "class Excel():\n",
        "    \n",
        "    from openpyxl import load_workbook\n",
        "    \n",
        "    workbook = load_workbook(filename = 'C:/Akademik/TA/Data Bahan Pokok/Hasil.xlsx')\n",
        "    sheet = workbook.active\n",
        "    \n",
        "    def __init__(self, time_total, MAPE, RMSE):\n",
        "        self.time_total = time_total\n",
        "        self.MAPE = MAPE\n",
        "        self.RMSE = RMSE\n",
        "        \n",
        "    def sheet_code(self, row):\n",
        "        self.sheet['B'+str(row)] = self.time_total\n",
        "        self.sheet['C'+str(row)] = self.MAPE\n",
        "        self.sheet['D'+str(row)] = self.RMSE\n",
        "        \n",
        "        self.workbook.save(filename = 'C:/Akademik/TA/Data Bahan Pokok/Hasil.xlsx')"
      ],
      "execution_count": 0,
      "outputs": []
    }
  ]
}